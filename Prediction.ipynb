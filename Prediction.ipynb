{
 "cells": [
  {
   "cell_type": "code",
   "execution_count": 1,
   "id": "2cb6855e-6d4a-4e68-b32a-f9d099c6f6aa",
   "metadata": {},
   "outputs": [],
   "source": [
    "# import the necessary packages\n",
    "import matplotlib.pyplot as plt\n",
    "import pandas as pd\n",
    "import numpy as np\n",
    "import glob\n",
    "import cv2\n",
    "import os\n",
    "import csv\n",
    "\n",
    "## Modules to check the performance of the code\n",
    "from time import process_time \n",
    "# !pip install memory_profiler ## When running from Google Colab\n",
    "# import memory_profiler as mem_profile\n",
    "# print('Memory (Before): {}Mb'.format(mem_profile.memory_usage()))\n",
    "\n",
    "\n",
    "## Importing the necessary TesnorFLow modules modules\n",
    "from sklearn.model_selection import train_test_split\n",
    "from tensorflow.keras.optimizers import Adam\n",
    "import tensorflow as tf\n",
    "\n",
    "# from tensorflow.python.compiler.mlcompute import mlcompute\n",
    "# mlcompute.set_mlc_device(device_name='gpu')\n",
    "\n",
    "from tensorflow import keras\n",
    "from tensorflow.keras.layers import concatenate\n",
    "from tensorflow.keras.layers import Dense\n",
    "from tensorflow.keras.models import Model\n",
    "from sklearn.metrics import r2_score ## form calcualting the r2 score\n",
    "from sklearn.utils import shuffle\n",
    "from tensorflow import keras as k"
   ]
  },
  {
   "cell_type": "code",
   "execution_count": 2,
   "id": "8936ad53-e698-46ea-9261-b7e81059e5cd",
   "metadata": {},
   "outputs": [
    {
     "name": "stdout",
     "output_type": "stream",
     "text": [
      "We are currently using the Modules_DPCNet-RT\n",
      "Creation of the directory data_folder failed/ not needed as it already exit\n",
      "Creation of the directory figures failed/ not needed as it already exit\n",
      "Creation of the directory saved_model failed/ not needed as it already exit\n",
      "[INFO] Modules imported\n"
     ]
    }
   ],
   "source": [
    "############ Please provide the same path to the code directory if using Colab################\n",
    "\n",
    "# Path_gdrive= '/content/drive/MyDrive/DPNNet-RT/' ## Comment out this line if using local computer\n",
    "\n",
    "## Importing the Modules from Modules_DPNNet\n",
    "import sys\n",
    "try: ## tries to find the modules in the local directory first\n",
    "  current_directory = os.getcwd()\n",
    "  path = current_directory + '/' # For local computer \n",
    "#   path = '' # For local computer  \n",
    "  sys.path.append(path+'MODULES_DPNNeT')\n",
    "  import data_processing_RT as dp\n",
    "  import deep_models as dm\n",
    "  import other_cnns as ocn\n",
    "\n",
    "########### Folders to save the processed data, files and figures when using Local computer ##############\n",
    "  output_folder_list = ['data_folder','figures','saved_model']\n",
    "  for file in output_folder_list:\n",
    "    try:\n",
    "        os.makedirs(file)\n",
    "    except OSError:\n",
    "        print (\"Creation of the directory %s failed/ not needed as it already exit\" % file)\n",
    "    else:\n",
    "        print (\"Successfully created the directory %s\" % file)\n",
    "  \n",
    "except ModuleNotFoundError:\n",
    "  \n",
    "  # #For Colab use:\n",
    "  # #Point to the path containing the modules in the above section\n",
    "  #(data folder are a directory above the directory containing the notebook)\n",
    "  try:\n",
    "    path = Path_gdrive\n",
    "    print(path)\n",
    "    sys.path.append(path+'MODULES_DPNNeT')\n",
    "    import data_processing_RT as dp\n",
    "    import deep_models as dm\n",
    "    import other_cnns as ocn\n",
    "\n",
    "    ########### Folders to save the processed data, files and figures when using GDRIVE ##############\n",
    "    import os\n",
    "    os.chdir(path)\n",
    "    print(\"Creating the folders\")\n",
    "    !mkdir -p data_folder\n",
    "    !mkdir -p figures ## to save the figures\n",
    "    !mkdir -p figures_paper\n",
    "    !mkdir -p saved_model\n",
    "  except ModuleNotFoundError:\n",
    "    print(\"The path to the modules is incorrect-- Provide current path\")\n",
    "\n",
    "print(\"[INFO] Modules imported\")\n",
    "\n"
   ]
  },
  {
   "cell_type": "code",
   "execution_count": 3,
   "id": "9a5f5adb-9db6-482b-8500-8986f529255a",
   "metadata": {},
   "outputs": [
    {
     "name": "stdout",
     "output_type": "stream",
     "text": [
      "[INFO] preparing the normalized data training/testing split...\n",
      "Droping the irrelevant columns \n",
      "INFO: considering multiple planets as output\n",
      "[INFO] Done...\n",
      "[INFO] Loading images from Test data..\n",
      "Test Images are loaded\n"
     ]
    }
   ],
   "source": [
    "test = pd.read_csv(\"data_folder/test_dataset.csv\")\n",
    "train = pd.read_csv(\"data_folder/train_dataset.csv\")\n",
    "## Generate the Normalized data\n",
    "normed_train_data, normed_test_data, train_labels, test_labels = dp.process_the_disk_attributes(train, test, path,multi_label=True)\n",
    "### Desired Image resoltuion #####\n",
    "X_res = Y_res = 64\n",
    "testImagesX = dp.load_disk_images(test, X_res, Y_res, Type = \"Test\")"
   ]
  },
  {
   "cell_type": "code",
   "execution_count": 4,
   "id": "616e7db2-0cf4-4283-81de-9b64646ccdfc",
   "metadata": {},
   "outputs": [],
   "source": [
    "from tensorflow.keras import layers\n",
    "from tensorflow.keras.applications import EfficientNetB0, EfficientNetB1 \n",
    "from tensorflow.keras.applications import EfficientNetB2, EfficientNetB3\n",
    "from tensorflow.keras.applications import EfficientNetB4, EfficientNetB5 \n",
    "from tensorflow.keras.applications import EfficientNetB6, EfficientNetB7\n",
    "from tensorflow.keras.applications import ResNet50,ResNet50V2\n",
    "## Select the Network type\n",
    "\n",
    "# NETWORK = \"Vanilla\" ## Cannot be uses at the moment\n",
    "# NETWORK = \"ALEXNET\"\n",
    "# NETWORK = \"VGG\"\n",
    "# NETWORK = \"RESNET50\"\n",
    "# NETWORK = \"TL\"\n",
    "# # transfer_model=ResNet50\n",
    "# transfer_model=EfficientNetB3\n",
    "\n",
    "\n",
    "NETWORK = \"TRANSFERLEARNINGHYPERMODEL\"\n",
    "transfer_model = ResNet50\n",
    "\n",
    "## Select the kind of Traning ## Both can be selected as well\n",
    "# REG = True  ## When choosing regression\n",
    "# CLA = False  ## When Choosing Clasiffication\n",
    "\n",
    "REG = True  ## When choosing regression\n",
    "CLA = True  ## When Choosing Clasiffication\n"
   ]
  },
  {
   "cell_type": "code",
   "execution_count": 5,
   "id": "b9856191-2cb9-4c90-929a-a6b8ce22a0c2",
   "metadata": {},
   "outputs": [
    {
     "name": "stderr",
     "output_type": "stream",
     "text": [
      "2022-09-22 14:58:40.361455: I tensorflow/core/platform/cpu_feature_guard.cc:193] This TensorFlow binary is optimized with oneAPI Deep Neural Network Library (oneDNN) to use the following CPU instructions in performance-critical operations:  AVX2 FMA\n",
      "To enable them in other operations, rebuild TensorFlow with the appropriate compiler flags.\n",
      "2022-09-22 14:58:42.101409: I tensorflow/core/common_runtime/gpu/gpu_device.cc:1532] Created device /job:localhost/replica:0/task:0/device:GPU:0 with 11319 MB memory:  -> device: 0, name: Tesla P100-PCIE-12GB, pci bus id: 0000:04:00.0, compute capability: 6.0\n"
     ]
    },
    {
     "ename": "ValueError",
     "evalue": "Unknown loss function: pmae. Please ensure this object is passed to the `custom_objects` argument. See https://www.tensorflow.org/guide/keras/save_and_serialize#registering_the_custom_object for details.",
     "output_type": "error",
     "traceback": [
      "\u001b[0;31m---------------------------------------------------------------------------\u001b[0m",
      "\u001b[0;31mValueError\u001b[0m                                Traceback (most recent call last)",
      "Input \u001b[0;32mIn [5]\u001b[0m, in \u001b[0;36m<cell line: 2>\u001b[0;34m()\u001b[0m\n\u001b[1;32m      1\u001b[0m \u001b[38;5;66;03m# Loading the model\u001b[39;00m\n\u001b[1;32m      2\u001b[0m \u001b[38;5;28;01mif\u001b[39;00m REG \u001b[38;5;241m==\u001b[39m \u001b[38;5;28;01mTrue\u001b[39;00m \u001b[38;5;129;01mand\u001b[39;00m CLA \u001b[38;5;241m==\u001b[39m \u001b[38;5;28;01mTrue\u001b[39;00m:\n\u001b[0;32m----> 3\u001b[0m     CNN \u001b[38;5;241m=\u001b[39m \u001b[43mtf\u001b[49m\u001b[38;5;241;43m.\u001b[39;49m\u001b[43mkeras\u001b[49m\u001b[38;5;241;43m.\u001b[39;49m\u001b[43mmodels\u001b[49m\u001b[38;5;241;43m.\u001b[39;49m\u001b[43mload_model\u001b[49m\u001b[43m(\u001b[49m\u001b[43mpath\u001b[49m\u001b[38;5;241;43m+\u001b[39;49m\u001b[38;5;124;43m'\u001b[39;49m\u001b[38;5;124;43msaved_model/\u001b[39;49m\u001b[38;5;124;43m'\u001b[39;49m\u001b[38;5;241;43m+\u001b[39;49m\u001b[43mNETWORK\u001b[49m\u001b[38;5;241;43m+\u001b[39;49m\u001b[38;5;124;43m'\u001b[39;49m\u001b[38;5;124;43m_\u001b[39;49m\u001b[38;5;124;43m'\u001b[39;49m\u001b[38;5;241;43m+\u001b[39;49m\u001b[38;5;28;43mstr\u001b[39;49m\u001b[43m(\u001b[49m\u001b[43mX_res\u001b[49m\u001b[43m)\u001b[49m\u001b[38;5;241;43m+\u001b[39;49m\u001b[38;5;124;43m'\u001b[39;49m\u001b[38;5;124;43m_modelRC\u001b[39;49m\u001b[38;5;124;43m'\u001b[39;49m\u001b[43m)\u001b[49m\n\u001b[1;32m      4\u001b[0m \u001b[38;5;28;01melif\u001b[39;00m REG \u001b[38;5;241m==\u001b[39m \u001b[38;5;28;01mTrue\u001b[39;00m:\n\u001b[1;32m      5\u001b[0m     CNN \u001b[38;5;241m=\u001b[39m tf\u001b[38;5;241m.\u001b[39mkeras\u001b[38;5;241m.\u001b[39mmodels\u001b[38;5;241m.\u001b[39mload_model(path\u001b[38;5;241m+\u001b[39m\u001b[38;5;124m'\u001b[39m\u001b[38;5;124msaved_model/\u001b[39m\u001b[38;5;124m'\u001b[39m\u001b[38;5;241m+\u001b[39mNETWORK\u001b[38;5;241m+\u001b[39m\u001b[38;5;124m'\u001b[39m\u001b[38;5;124m_\u001b[39m\u001b[38;5;124m'\u001b[39m\u001b[38;5;241m+\u001b[39m\u001b[38;5;28mstr\u001b[39m(X_res)\u001b[38;5;241m+\u001b[39m\u001b[38;5;124m'\u001b[39m\u001b[38;5;124m_modelR\u001b[39m\u001b[38;5;124m'\u001b[39m)\n",
      "File \u001b[0;32m~/ML_env_2/lib/python3.8/site-packages/keras/utils/traceback_utils.py:67\u001b[0m, in \u001b[0;36mfilter_traceback.<locals>.error_handler\u001b[0;34m(*args, **kwargs)\u001b[0m\n\u001b[1;32m     65\u001b[0m \u001b[38;5;28;01mexcept\u001b[39;00m \u001b[38;5;167;01mException\u001b[39;00m \u001b[38;5;28;01mas\u001b[39;00m e:  \u001b[38;5;66;03m# pylint: disable=broad-except\u001b[39;00m\n\u001b[1;32m     66\u001b[0m   filtered_tb \u001b[38;5;241m=\u001b[39m _process_traceback_frames(e\u001b[38;5;241m.\u001b[39m__traceback__)\n\u001b[0;32m---> 67\u001b[0m   \u001b[38;5;28;01mraise\u001b[39;00m e\u001b[38;5;241m.\u001b[39mwith_traceback(filtered_tb) \u001b[38;5;28;01mfrom\u001b[39;00m \u001b[38;5;28mNone\u001b[39m\n\u001b[1;32m     68\u001b[0m \u001b[38;5;28;01mfinally\u001b[39;00m:\n\u001b[1;32m     69\u001b[0m   \u001b[38;5;28;01mdel\u001b[39;00m filtered_tb\n",
      "File \u001b[0;32m~/ML_env_2/lib/python3.8/site-packages/keras/utils/generic_utils.py:709\u001b[0m, in \u001b[0;36mdeserialize_keras_object\u001b[0;34m(identifier, module_objects, custom_objects, printable_module_name)\u001b[0m\n\u001b[1;32m    707\u001b[0m   obj \u001b[38;5;241m=\u001b[39m module_objects\u001b[38;5;241m.\u001b[39mget(object_name)\n\u001b[1;32m    708\u001b[0m   \u001b[38;5;28;01mif\u001b[39;00m obj \u001b[38;5;129;01mis\u001b[39;00m \u001b[38;5;28;01mNone\u001b[39;00m:\n\u001b[0;32m--> 709\u001b[0m     \u001b[38;5;28;01mraise\u001b[39;00m \u001b[38;5;167;01mValueError\u001b[39;00m(\n\u001b[1;32m    710\u001b[0m         \u001b[38;5;124mf\u001b[39m\u001b[38;5;124m'\u001b[39m\u001b[38;5;124mUnknown \u001b[39m\u001b[38;5;132;01m{\u001b[39;00mprintable_module_name\u001b[38;5;132;01m}\u001b[39;00m\u001b[38;5;124m: \u001b[39m\u001b[38;5;132;01m{\u001b[39;00mobject_name\u001b[38;5;132;01m}\u001b[39;00m\u001b[38;5;124m. Please ensure \u001b[39m\u001b[38;5;124m'\u001b[39m\n\u001b[1;32m    711\u001b[0m         \u001b[38;5;124m'\u001b[39m\u001b[38;5;124mthis object is passed to the `custom_objects` argument. See \u001b[39m\u001b[38;5;124m'\u001b[39m\n\u001b[1;32m    712\u001b[0m         \u001b[38;5;124m'\u001b[39m\u001b[38;5;124mhttps://www.tensorflow.org/guide/keras/save_and_serialize\u001b[39m\u001b[38;5;124m'\u001b[39m\n\u001b[1;32m    713\u001b[0m         \u001b[38;5;124m'\u001b[39m\u001b[38;5;124m#registering_the_custom_object for details.\u001b[39m\u001b[38;5;124m'\u001b[39m)\n\u001b[1;32m    715\u001b[0m \u001b[38;5;66;03m# Classes passed by name are instantiated with no args, functions are\u001b[39;00m\n\u001b[1;32m    716\u001b[0m \u001b[38;5;66;03m# returned as-is.\u001b[39;00m\n\u001b[1;32m    717\u001b[0m \u001b[38;5;28;01mif\u001b[39;00m tf_inspect\u001b[38;5;241m.\u001b[39misclass(obj):\n",
      "\u001b[0;31mValueError\u001b[0m: Unknown loss function: pmae. Please ensure this object is passed to the `custom_objects` argument. See https://www.tensorflow.org/guide/keras/save_and_serialize#registering_the_custom_object for details."
     ]
    }
   ],
   "source": [
    "# # Loading the model\n",
    "# if REG == True and CLA == True:\n",
    "#     CNN = tf.keras.models.load_model(path+'saved_model/'+NETWORK+'_'+str(X_res)+'_modelRC')\n",
    "# elif REG == True:\n",
    "#     CNN = tf.keras.models.load_model(path+'saved_model/'+NETWORK+'_'+str(X_res)+'_modelR')\n",
    "# elif CLA == True:\n",
    "#     CNN = tf.keras.models.load_model(path+'saved_model/'+NETWORK+'_'+str(X_res)+'_modelC')\n"
   ]
  },
  {
   "cell_type": "code",
   "execution_count": 7,
   "id": "2aff91cf-66b5-4da6-bed3-dff49e136b06",
   "metadata": {},
   "outputs": [],
   "source": [
    "### For customized loss function we need to use the following code snippet\n",
    "### This needs to be later moved to the module folder\n",
    "\n",
    "def pmae(y_true, y_pred):\n",
    "              if not tf.is_tensor(y_pred):\n",
    "                  y_pred = K.constant(y_pred)\n",
    "              y_true = K.cast(y_true, y_pred.dtype)\n",
    "              diff = K.mean(K.abs((y_pred - y_true)) / K.mean(K.clip(K.abs(y_true),\n",
    "                                                                    K.epsilon(),\n",
    "                                                                    None)))\n",
    "              return K.mean(diff)          \n",
    "# Loading the model\n",
    "if REG == True and CLA == True:\n",
    "    CNN = tf.keras.models.load_model(path+'saved_model/'+NETWORK+'_'+str(X_res)+'_modelRC', custom_objects={'pmae': pmae})\n",
    "elif REG == True:\n",
    "    CNN = tf.keras.models.load_model(path+'saved_model/'+NETWORK+'_'+str(X_res)+'_modelR')\n",
    "elif CLA == True:\n",
    "    CNN = tf.keras.models.load_model(path+'saved_model/'+NETWORK+'_'+str(X_res)+'_modelR')"
   ]
  },
  {
   "cell_type": "code",
   "execution_count": 29,
   "id": "d9159b19-b6aa-4144-a684-a09ca23b75d0",
   "metadata": {},
   "outputs": [
    {
     "name": "stdout",
     "output_type": "stream",
     "text": [
      "71/71 [==============================] - 1s 17ms/step\n",
      "[0.9984946  0.99941444]\n",
      "[675.06696 569.48535 781.8097 ]\n"
     ]
    }
   ],
   "source": [
    "test_index = 560 #451 #550 ##210\n",
    "pred_CNN = CNN.predict(testImagesX)\n",
    "# np.shape(pred_CNN)\n",
    "print(pred_CNN[1][test_index])\n",
    "print(pred_CNN[0][test_index])\n",
    "\n",
    "# pred_CNN[test_index]"
   ]
  },
  {
   "cell_type": "code",
   "execution_count": 30,
   "id": "44c5d9da-d666-4c16-82a7-7cda864f0b9d",
   "metadata": {},
   "outputs": [
    {
     "name": "stderr",
     "output_type": "stream",
     "text": [
      "Clipping input data to the valid range for imshow with RGB data ([0..1] for floats or [0..255] for integers).\n"
     ]
    },
    {
     "data": {
      "text/plain": [
       "Planet_Mass1    616.666667\n",
       "Planet_Mass2    650.000000\n",
       "Planet_Mass3    903.333333\n",
       "Name: 560, dtype: float64"
      ]
     },
     "execution_count": 30,
     "metadata": {},
     "output_type": "execute_result"
    },
    {
     "data": {
      "image/png": "[encoded data removed]",
      "text/plain": [
       "<Figure size 432x288 with 1 Axes>"
      ]
     },
     "metadata": {
      "needs_background": "light"
     },
     "output_type": "display_data"
    }
   ],
   "source": [
    "plt.imshow(testImagesX[test_index])\n",
    "test_labels.iloc[test_index]"
   ]
  },
  {
   "cell_type": "code",
   "execution_count": null,
   "id": "a77cb3e6-92fd-4251-8f86-7870a97228d7",
   "metadata": {},
   "outputs": [],
   "source": []
  }
 ],
 "metadata": {
  "kernelspec": {
   "display_name": "ML_env_2",
   "language": "python",
   "name": "ml_env_2"
  },
  "language_info": {
   "codemirror_mode": {
    "name": "ipython",
    "version": 3
   },
   "file_extension": ".py",
   "mimetype": "text/x-python",
   "name": "python",
   "nbconvert_exporter": "python",
   "pygments_lexer": "ipython3",
   "version": "3.8.10"
  }
 },
 "nbformat": 4,
 "nbformat_minor": 5
}
